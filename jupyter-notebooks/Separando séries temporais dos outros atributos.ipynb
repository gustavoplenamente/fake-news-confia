{
 "cells": [
  {
   "cell_type": "code",
   "execution_count": 1,
   "metadata": {},
   "outputs": [],
   "source": [
    "import pandas as pd\n",
    "from numpy import arange\n",
    "from sklearn.model_selection import train_test_split, KFold, cross_val_score\n",
    "from sklearn.neighbors import KNeighborsClassifier\n",
    "from sklearn.svm import SVC\n",
    "from sklearn.ensemble import RandomForestClassifier\n",
    "from sklearn.neural_network import MLPClassifier\n",
    "from sklearn.naive_bayes import GaussianNB\n",
    "from xgboost import XGBClassifier"
   ]
  },
  {
   "cell_type": "code",
   "execution_count": 2,
   "metadata": {},
   "outputs": [],
   "source": [
    "fake_set = pd.read_csv('news-temporal-series-fake.csv', sep='\\t')\n",
    "not_fake_set = pd.read_csv('news-temporal-series-notFake.csv', sep='\\t')"
   ]
  },
  {
   "cell_type": "code",
   "execution_count": 3,
   "metadata": {},
   "outputs": [],
   "source": [
    "fake_set['is fake'] = 1\n",
    "not_fake_set['is fake'] = 0"
   ]
  },
  {
   "cell_type": "code",
   "execution_count": 4,
   "metadata": {},
   "outputs": [],
   "source": [
    "dataset = pd.concat([fake_set, not_fake_set]).sample(frac=1)\n",
    "dataset = dataset.drop(columns='news_id')"
   ]
  },
  {
   "cell_type": "code",
   "execution_count": 5,
   "metadata": {},
   "outputs": [],
   "source": [
    "X = dataset.iloc[:, 0:3]\n",
    "y = dataset.iloc[:, 8]"
   ]
  },
  {
   "cell_type": "code",
   "execution_count": 19,
   "metadata": {},
   "outputs": [],
   "source": [
    "classifiers = [\n",
    "    KNeighborsClassifier(3),\n",
    "    KNeighborsClassifier(5),\n",
    "    SVC(kernel=\"linear\", C=0.025),\n",
    "    SVC(gamma=2, C=1),\n",
    "    RandomForestClassifier(max_depth=5, n_estimators=10, max_features=1),\n",
    "    RandomForestClassifier(max_depth=10, n_estimators=10, max_features=1),\n",
    "    MLPClassifier(alpha=1, max_iter=1000),\n",
    "    GaussianNB(),\n",
    "    XGBClassifier(random_state=1,learning_rate=0.01),\n",
    "    XGBClassifier(random_state=1,learning_rate=0.1),\n",
    "    XGBClassifier(random_state=0,learning_rate=0.01)\n",
    "#     XGBClassifier(random_state=1,learning_rate=0.01),\n",
    "#     XGBClassifier(random_state=1,learning_rate=0.1)\n",
    "]"
   ]
  },
  {
   "cell_type": "code",
   "execution_count": 21,
   "metadata": {
    "scrolled": false
   },
   "outputs": [
    {
     "name": "stdout",
     "output_type": "stream",
     "text": [
      "KNeighborsClassifier(n_neighbors=3) 0.9\n",
      "\n",
      "KNeighborsClassifier() 0.9\n",
      "\n",
      "SVC(C=0.025, kernel='linear') 0.8833333333333333\n",
      "\n",
      "SVC(C=1, gamma=2) 0.75\n",
      "\n",
      "RandomForestClassifier(max_depth=5, max_features=1, n_estimators=10) 0.9333333333333333\n",
      "\n",
      "RandomForestClassifier(max_depth=10, max_features=1, n_estimators=10) 0.9\n",
      "\n",
      "MLPClassifier(alpha=1, max_iter=1000) 0.9166666666666666\n",
      "\n",
      "GaussianNB() 0.7166666666666667\n",
      "\n",
      "XGBClassifier(base_score=None, booster=None, colsample_bylevel=None,\n",
      "              colsample_bynode=None, colsample_bytree=None, gamma=None,\n",
      "              gpu_id=None, importance_type='gain', interaction_constraints=None,\n",
      "              learning_rate=0.01, max_delta_step=None, max_depth=None,\n",
      "              min_child_weight=None, missing=nan, monotone_constraints=None,\n",
      "              n_estimators=100, n_jobs=None, num_parallel_tree=None,\n",
      "              random_state=1, reg_alpha=None, reg_lambda=None,\n",
      "              scale_pos_weight=None, subsample=None, tree_method=None,\n",
      "              validate_parameters=None, verbosity=None) 0.9166666666666666\n",
      "\n",
      "XGBClassifier(base_score=None, booster=None, colsample_bylevel=None,\n",
      "              colsample_bynode=None, colsample_bytree=None, gamma=None,\n",
      "              gpu_id=None, importance_type='gain', interaction_constraints=None,\n",
      "              learning_rate=0.1, max_delta_step=None, max_depth=None,\n",
      "              min_child_weight=None, missing=nan, monotone_constraints=None,\n",
      "              n_estimators=100, n_jobs=None, num_parallel_tree=None,\n",
      "              random_state=1, reg_alpha=None, reg_lambda=None,\n",
      "              scale_pos_weight=None, subsample=None, tree_method=None,\n",
      "              validate_parameters=None, verbosity=None) 0.9166666666666666\n",
      "\n",
      "XGBClassifier(base_score=None, booster=None, colsample_bylevel=None,\n",
      "              colsample_bynode=None, colsample_bytree=None, gamma=None,\n",
      "              gpu_id=None, importance_type='gain', interaction_constraints=None,\n",
      "              learning_rate=0.01, max_delta_step=None, max_depth=None,\n",
      "              min_child_weight=None, missing=nan, monotone_constraints=None,\n",
      "              n_estimators=100, n_jobs=None, num_parallel_tree=None,\n",
      "              random_state=0, reg_alpha=None, reg_lambda=None,\n",
      "              scale_pos_weight=None, subsample=None, tree_method=None,\n",
      "              validate_parameters=None, verbosity=None) 0.9166666666666666\n",
      "\n"
     ]
    }
   ],
   "source": [
    "for clf in classifiers:\n",
    "    scores = cross_val_score(clf, X, y, cv=10)\n",
    "    score = max(scores)\n",
    "    \n",
    "    print(clf, score)\n",
    "    print()"
   ]
  },
  {
   "cell_type": "markdown",
   "metadata": {},
   "source": [
    "## Tuning KNN"
   ]
  },
  {
   "cell_type": "code",
   "execution_count": 28,
   "metadata": {},
   "outputs": [
    {
     "name": "stdout",
     "output_type": "stream",
     "text": [
      "KNeighborsClassifier(n_neighbors=1, p=1) 0.8333333333333334\n",
      "KNeighborsClassifier(n_neighbors=1) 0.8666666666666667\n",
      "KNeighborsClassifier(n_neighbors=3, p=1) 0.9\n",
      "KNeighborsClassifier(algorithm='ball_tree', leaf_size=50, n_neighbors=3, p=1) 0.9166666666666666\n",
      "KNeighborsClassifier(n_neighbors=4, weights='distance') 0.9333333333333333\n",
      "KNeighborsClassifier(algorithm='ball_tree', leaf_size=100, n_neighbors=10, p=1) 0.95\n"
     ]
    }
   ],
   "source": [
    "max_score = 0\n",
    "\n",
    "for n in range(1,11):\n",
    "    for w in ['uniform', 'distance']:\n",
    "        for a in ['auto', 'ball_tree', 'kd_tree', 'brute']:\n",
    "            for p in range(1,4):\n",
    "                if a in ['ball_tree', 'kd_tree']:\n",
    "                    for l in [20, 30, 50, 100]:\n",
    "                        clf = KNeighborsClassifier(n_neighbors=n, weights=w, algorithm=a, leaf_size=l, p=p)\n",
    "                        \n",
    "                        scores = cross_val_score(clf, X, y, cv=10)\n",
    "                        score = max(scores)\n",
    "                        \n",
    "                        if score > max_score:\n",
    "                            max_score = score\n",
    "                            best_clf = clf\n",
    "                            print(best_clf, max_score)\n",
    "                        \n",
    "                else:\n",
    "                    clf = KNeighborsClassifier(n_neighbors=n, weights=w, algorithm=a, p=p)\n",
    "                    \n",
    "                    scores = cross_val_score(clf, X, y, cv=10)\n",
    "                    score = max(scores)\n",
    "                    \n",
    "                    if score > max_score:\n",
    "                            max_score = score\n",
    "                            best_clf = clf\n",
    "                            print(best_clf, max_score)"
   ]
  },
  {
   "cell_type": "code",
   "execution_count": 31,
   "metadata": {},
   "outputs": [
    {
     "name": "stdout",
     "output_type": "stream",
     "text": [
      "KNeighborsClassifier(algorithm='ball_tree', leaf_size=60, n_neighbors=1, p=1) 0.8166666666666667\n",
      "KNeighborsClassifier(algorithm='ball_tree', leaf_size=68, n_neighbors=1, p=1) 0.8333333333333334\n",
      "KNeighborsClassifier(algorithm='ball_tree', leaf_size=60, n_neighbors=1) 0.8666666666666667\n",
      "KNeighborsClassifier(algorithm='ball_tree', leaf_size=60, n_neighbors=3, p=1) 0.9166666666666666\n",
      "KNeighborsClassifier(algorithm='ball_tree', leaf_size=60, n_neighbors=4,\n",
      "                     weights='distance') 0.9333333333333333\n",
      "KNeighborsClassifier(algorithm='ball_tree', leaf_size=68, n_neighbors=10, p=1) 0.95\n",
      "KNeighborsClassifier(algorithm='ball_tree', leaf_size=68, n_neighbors=13, p=1) 0.9666666666666667\n",
      "KNeighborsClassifier(algorithm='ball_tree', leaf_size=68, n_neighbors=13, p=1,\n",
      "                     weights='distance') 0.9833333333333333\n"
     ]
    }
   ],
   "source": [
    "max_score = 0\n",
    "\n",
    "for n in range(1,21):\n",
    "    for w in ['uniform', 'distance']:\n",
    "        for p in range(1,3):\n",
    "            for l in range(60, 80):\n",
    "                clf = KNeighborsClassifier(n_neighbors=n, weights=w, algorithm='ball_tree', leaf_size=l, p=p)\n",
    "\n",
    "                scores = cross_val_score(clf, X, y, cv=10)\n",
    "                score = max(scores)\n",
    "\n",
    "                if score > max_score:\n",
    "                    max_score = score\n",
    "                    best_clf = clf\n",
    "                    print(best_clf, max_score)"
   ]
  },
  {
   "cell_type": "markdown",
   "metadata": {},
   "source": [
    "## Tuning Random Forests"
   ]
  },
  {
   "cell_type": "code",
   "execution_count": null,
   "metadata": {},
   "outputs": [
    {
     "name": "stdout",
     "output_type": "stream",
     "text": [
      "RandomForestClassifier(min_samples_leaf=0.1, min_samples_split=0.1,\n",
      "                       n_estimators=50, oob_score=True) 0.9333333333333333\n",
      "RandomForestClassifier(max_features='sqrt', min_samples_leaf=0.1,\n",
      "                       min_samples_split=0.1, n_estimators=50) 0.95\n",
      "RandomForestClassifier(max_features='log2', min_samples_leaf=0.1,\n",
      "                       min_samples_split=0.30000000000000004,\n",
      "                       min_weight_fraction_leaf=0.1, n_estimators=110,\n",
      "                       oob_score=True) 0.9666666666666667\n"
     ]
    }
   ],
   "source": [
    "max_score = 0\n",
    "\n",
    "for n in range(50, 150, 10):\n",
    "    for c in ['gini', 'entropy']:\n",
    "        for mss in arange(0.1, 1.1, 0.1):\n",
    "            for msl in arange(0.1, 0.6, 0.1):\n",
    "                for mwfl in arange(0, 0.5, 0.1):\n",
    "                    for mf in ['auto', 'sqrt', 'log2']:\n",
    "                        for mid in arange(0, 0.5, 0.1):\n",
    "                            for b in [True]:\n",
    "                                \n",
    "                                for os in [True, False]:\n",
    "                                    \n",
    "                                    clf = RandomForestClassifier(\n",
    "                                        n_estimators=n, \n",
    "                                        criterion=c, \n",
    "                                        min_samples_split=mss, \n",
    "                                        min_samples_leaf=msl, \n",
    "                                        min_weight_fraction_leaf=mwfl,\n",
    "                                        max_features=mf,\n",
    "                                        min_impurity_decrease=mid,\n",
    "                                        bootstrap=b,\n",
    "                                        oob_score=os\n",
    "                                    )\n",
    "\n",
    "                                    scores = cross_val_score(clf, X, y, cv=10)\n",
    "                                    score = max(scores)\n",
    "\n",
    "                                    if score > max_score:\n",
    "                                        max_score = score\n",
    "                                        best_clf = clf\n",
    "                                        print(best_clf, max_score)"
   ]
  },
  {
   "cell_type": "markdown",
   "metadata": {},
   "source": [
    "## Tuning Neural Network"
   ]
  },
  {
   "cell_type": "code",
   "execution_count": null,
   "metadata": {},
   "outputs": [],
   "source": []
  },
  {
   "cell_type": "markdown",
   "metadata": {},
   "source": [
    "## Tuning XGBoost "
   ]
  },
  {
   "cell_type": "code",
   "execution_count": null,
   "metadata": {},
   "outputs": [],
   "source": []
  }
 ],
 "metadata": {
  "kernelspec": {
   "display_name": "Python 3",
   "language": "python",
   "name": "python3"
  },
  "language_info": {
   "codemirror_mode": {
    "name": "ipython",
    "version": 3
   },
   "file_extension": ".py",
   "mimetype": "text/x-python",
   "name": "python",
   "nbconvert_exporter": "python",
   "pygments_lexer": "ipython3",
   "version": "3.6.9"
  }
 },
 "nbformat": 4,
 "nbformat_minor": 4
}
